{
 "cells": [
  {
   "cell_type": "markdown",
   "id": "e1768c28",
   "metadata": {},
   "source": [
    "# Pneumonia Identification from X-rays"
   ]
  },
  {
   "cell_type": "markdown",
   "id": "a7e55eb7",
   "metadata": {},
   "source": [
    "Data available at https://www.kaggle.com/datasets/paultimothymooney/chest-xray-pneumonia?datasetId=17810"
   ]
  },
  {
   "cell_type": "markdown",
   "id": "1132bf6d",
   "metadata": {},
   "source": [
    "#### Import the necessary Libraries "
   ]
  },
  {
   "cell_type": "code",
   "execution_count": 13,
   "id": "349e3150",
   "metadata": {},
   "outputs": [],
   "source": [
    "import matplotlib.pyplot as plt\n",
    "import seaborn as sns\n",
    "import numpy as np\n",
    "import pandas as pd\n",
    "import tensorflow as tf \n",
    "from tensorflow.keras.models import Sequential\n",
    "from tensorflow.keras.layers import Dense, Conv2D , MaxPool2D , Flatten , Dropout , BatchNormalization\n",
    "from tensorflow.keras.preprocessing.image import ImageDataGenerator\n",
    "from sklearn.model_selection import train_test_split\n",
    "from tensorflow.keras.preprocessing import image_dataset_from_directory\n",
    "import tensorflow.keras.layers.experimental.preprocessing as preprocessing\n",
    "from sklearn.metrics import classification_report,confusion_matrix\n",
    "import cv2\n",
    "import os"
   ]
  },
  {
   "cell_type": "code",
   "execution_count": 2,
   "id": "3e0264a1",
   "metadata": {},
   "outputs": [
    {
     "data": {
      "text/plain": [
       "<function tensorflow.python.framework.test_util.is_gpu_available(cuda_only=False, min_cuda_compute_capability=None)>"
      ]
     },
     "execution_count": 2,
     "metadata": {},
     "output_type": "execute_result"
    }
   ],
   "source": [
    "tf.test.is_gpu_available"
   ]
  },
  {
   "cell_type": "code",
   "execution_count": 3,
   "id": "0a6b16c8",
   "metadata": {},
   "outputs": [
    {
     "name": "stdout",
     "output_type": "stream",
     "text": [
      "Num GPUs Available:  1\n"
     ]
    }
   ],
   "source": [
    "print(\"Num GPUs Available: \", len(tf.config.list_physical_devices('GPU')))"
   ]
  },
  {
   "cell_type": "code",
   "execution_count": 4,
   "id": "59640e4e",
   "metadata": {},
   "outputs": [
    {
     "name": "stdout",
     "output_type": "stream",
     "text": [
      "[name: \"/device:CPU:0\"\n",
      "device_type: \"CPU\"\n",
      "memory_limit: 268435456\n",
      "locality {\n",
      "}\n",
      "incarnation: 12880410839884542673\n",
      ", name: \"/device:GPU:0\"\n",
      "device_type: \"GPU\"\n",
      "memory_limit: 3665166336\n",
      "locality {\n",
      "  bus_id: 1\n",
      "  links {\n",
      "  }\n",
      "}\n",
      "incarnation: 2448210505803085385\n",
      "physical_device_desc: \"device: 0, name: NVIDIA GeForce RTX 3060 Laptop GPU, pci bus id: 0000:01:00.0, compute capability: 8.6\"\n",
      "]\n"
     ]
    }
   ],
   "source": [
    "from tensorflow.python.client import device_lib \n",
    "print(device_lib.list_local_devices())"
   ]
  },
  {
   "cell_type": "markdown",
   "id": "1feffc58",
   "metadata": {},
   "source": [
    "### Loading the data "
   ]
  },
  {
   "cell_type": "code",
   "execution_count": 43,
   "id": "f714b236",
   "metadata": {},
   "outputs": [
    {
     "name": "stdout",
     "output_type": "stream",
     "text": [
      "Found 5216 files belonging to 2 classes.\n",
      "Found 624 files belonging to 2 classes.\n"
     ]
    }
   ],
   "source": [
    "def process_img(img, label):\n",
    "    img = tf.image.convert_image_dtype(img, dtype=tf.float32)\n",
    "    return img, label\n",
    "\n",
    "train_ds = image_dataset_from_directory(\n",
    "    'train',\n",
    "    labels='inferred',\n",
    "    shuffle=True,\n",
    "    batch_size=64,\n",
    "    image_size=(256,256),\n",
    "    color_mode='grayscale',\n",
    "    label_mode='binary',\n",
    "    interpolation='nearest'\n",
    ").map(process_img)\n",
    "\n",
    "test_ds = image_dataset_from_directory(\n",
    "    'test',\n",
    "    labels='inferred',\n",
    "    shuffle=False,\n",
    "    batch_size=64,\n",
    "    image_size=(256,256),\n",
    "    color_mode='grayscale',\n",
    "    label_mode='binary',\n",
    "    interpolation='nearest'\n",
    ").map(process_img)"
   ]
  },
  {
   "cell_type": "code",
   "execution_count": 44,
   "id": "534cdd4e",
   "metadata": {},
   "outputs": [
    {
     "name": "stdout",
     "output_type": "stream",
     "text": [
      "Image shape:  (64, 256, 256, 1)\n"
     ]
    }
   ],
   "source": [
    "for image, label in train_ds.take(1):\n",
    "    print(\"Image shape: \", image.numpy().shape)"
   ]
  },
  {
   "cell_type": "code",
   "execution_count": 37,
   "id": "d25db21f",
   "metadata": {},
   "outputs": [
    {
     "name": "stdout",
     "output_type": "stream",
     "text": [
      "Found 4173 images belonging to 2 classes.\n",
      "Found 1043 images belonging to 2 classes.\n"
     ]
    }
   ],
   "source": [
    "# Import train and validation set \n",
    "image_generator = tf.keras.preprocessing.image.ImageDataGenerator(rescale=1./255,\n",
    "                                                                  shear_range=0.2,\n",
    "                                                                  zoom_range=0.2,\n",
    "                                                                  horizontal_flip=True,\n",
    "                                                                  rotation_range = 30,\n",
    "                                                                  vertical_flip=True,\n",
    "                                                                  validation_split=0.20)\n",
    "\n",
    "train_data_gen = image_generator.flow_from_directory(directory='train',\n",
    "                                                     target_size=(256, 256),\n",
    "                                                     color_mode=\"grayscale\",\n",
    "                                                     class_mode='binary',\n",
    "                                                     batch_size=32,\n",
    "                                                     shuffle=True,\n",
    "                                                     subset='training')\n",
    "\n",
    "\n",
    "val_data_gen = image_generator.flow_from_directory(directory='train',\n",
    "                                                     target_size=(256, 256),\n",
    "                                                     color_mode=\"grayscale\",\n",
    "                                                     class_mode='binary',\n",
    "                                                     batch_size=32,\n",
    "                                                     shuffle=False,\n",
    "                                                     subset='validation')"
   ]
  },
  {
   "cell_type": "code",
   "execution_count": 69,
   "id": "6532561c",
   "metadata": {},
   "outputs": [
    {
     "name": "stdout",
     "output_type": "stream",
     "text": [
      "Found 624 images belonging to 2 classes.\n"
     ]
    }
   ],
   "source": [
    "# Import test set \n",
    "image_generator2 = tf.keras.preprocessing.image.ImageDataGenerator(rescale=1./255)\n",
    "\n",
    "test_data_gen = image_generator2.flow_from_directory(directory='test', \n",
    "                                                    target_size=(256, 256),\n",
    "                                                    color_mode=\"grayscale\",\n",
    "                                                    class_mode='binary',\n",
    "                                                    batch_size=32,\n",
    "                                                    shuffle=False)\n"
   ]
  },
  {
   "cell_type": "markdown",
   "id": "851f8b66",
   "metadata": {},
   "source": [
    "##### Count Classes in training set "
   ]
  },
  {
   "cell_type": "code",
   "execution_count": 48,
   "id": "63d2c87e",
   "metadata": {},
   "outputs": [
    {
     "name": "stdout",
     "output_type": "stream",
     "text": [
      "Normal images count in training set: 1157\n",
      "Pneumonia images count in training set: 3290\n"
     ]
    }
   ],
   "source": [
    "filenames = tf.io.gfile.glob(str(os.getcwd() + '/train/*/*'))\n",
    "\n",
    "Normal = len([filename for filename in train_filenames if \"NORMAL\" in filename])\n",
    "print(\"Normal images count in training set: \" + str(Normal))\n",
    "\n",
    "Pneumonia = len([filename for filename in train_filenames if \"PNEUMONIA\" in filename])\n",
    "print(\"Pneumonia images count in training set: \" + str(Pneumonia))"
   ]
  },
  {
   "cell_type": "code",
   "execution_count": 53,
   "id": "00712712",
   "metadata": {},
   "outputs": [
    {
     "data": {
      "image/png": "[encoded data removed]",
      "text/plain": [
       "<Figure size 720x360 with 1 Axes>"
      ]
     },
     "metadata": {
      "needs_background": "light"
     },
     "output_type": "display_data"
    }
   ],
   "source": [
    "plt.figure(figsize=(10,5))\n",
    "\n",
    "# create dataset\n",
    "height = [Normal, Pneumonia]\n",
    "bars = ('Normal', 'Pneumonia')\n",
    "\n",
    " \n",
    "# Create bars and choose color\n",
    "plt.bar(bars, height, color = (0.5,0.1,0.5,0.6))\n",
    " \n",
    "# Add title and axis names\n",
    "plt.title('Test set')\n",
    "plt.xlabel('Class')\n",
    "plt.ylabel('values')\n",
    " \n",
    "# Show graph\n",
    "plt.show()"
   ]
  },
  {
   "cell_type": "markdown",
   "id": "32c8755a",
   "metadata": {},
   "source": [
    "The dataset is imbalanced and thus we are going to treat this problem by changing the weights "
   ]
  },
  {
   "cell_type": "code",
   "execution_count": 56,
   "id": "2e718425",
   "metadata": {},
   "outputs": [
    {
     "name": "stdout",
     "output_type": "stream",
     "text": [
      "Weight for Normal: 1.80\n",
      "Weight for Pneumonia: 0.63\n"
     ]
    }
   ],
   "source": [
    "weight_Normal = (1 / Normal)*(4173)/2.0 \n",
    "weight_Pneumonia = (1 / Pneumonia)*(4173)/2.0\n",
    "\n",
    "class_weight = {0: weight_for_0, 1: weight_for_1}\n",
    "\n",
    "print('Weight for Normal: {:.2f}'.format(weight_Normal))\n",
    "print('Weight for Pneumonia: {:.2f}'.format(weight_Pneumonia))"
   ]
  },
  {
   "cell_type": "code",
   "execution_count": 57,
   "id": "30a75923",
   "metadata": {},
   "outputs": [],
   "source": [
    "# Model Creation \n",
    "\n",
    "def CNN():\n",
    "    model = tf.keras.Sequential([\n",
    "    \n",
    "        # first convolutional layer \n",
    "        tf.keras.layers.Conv2D(32, kernel_size=3, strides=1, padding = 'same', activation='relu', input_shape = [256,256,1]),\n",
    "        tf.keras.layers.BatchNormalization(),\n",
    "        tf.keras.layers.MaxPool2D(pool_size=2, strides=2),\n",
    "        \n",
    "        \n",
    "        # second convolutional layer \n",
    "        tf.keras.layers.Conv2D(64, kernel_size=3, strides=1, padding = 'same', activation='relu'), # same padding is equal to zero padding\n",
    "        tf.keras.layers.BatchNormalization(),\n",
    "        tf.keras.layers.MaxPool2D(pool_size=2, strides=2),\n",
    "        \n",
    "        # Droupout \n",
    "        tf.keras.layers.Dropout(0.2),\n",
    " \n",
    "        # third convolutional layer \n",
    "        tf.keras.layers.Conv2D(128, kernel_size=3, strides=1, padding = 'same', activation='relu'),\n",
    "        tf.keras.layers.BatchNormalization(),\n",
    "        tf.keras.layers.MaxPool2D(pool_size=2, strides=2),        \n",
    "        \n",
    "        \n",
    "        # fourth convolutional layer \n",
    "        tf.keras.layers.Conv2D(64, kernel_size=3, strides=1, padding = 'same', activation='relu'),\n",
    "        tf.keras.layers.BatchNormalization(),\n",
    "        tf.keras.layers.MaxPool2D(pool_size=2, strides=2),         \n",
    "        \n",
    "        \n",
    "        # fifth convolutional layer \n",
    "        tf.keras.layers.Conv2D(64, kernel_size=3, strides=1, padding = 'same', activation='relu'),\n",
    "        tf.keras.layers.BatchNormalization(),\n",
    "        tf.keras.layers.MaxPool2D(pool_size=2, strides=2),  \n",
    "        \n",
    "        \n",
    "        # sixth convolutional layer \n",
    "        tf.keras.layers.Conv2D(64, kernel_size=3, strides=1, padding = 'same', activation='relu'),\n",
    "        tf.keras.layers.BatchNormalization(),\n",
    "        tf.keras.layers.MaxPool2D(pool_size=2, strides=2),  \n",
    "        \n",
    "        # seventh convolutional layer \n",
    "        tf.keras.layers.Conv2D(64, kernel_size=3, strides=1, padding = 'same', activation='relu'),\n",
    "        tf.keras.layers.BatchNormalization(),\n",
    "        tf.keras.layers.MaxPool2D(pool_size=2, strides=2),  \n",
    "        \n",
    "        # eighth convolutional layer \n",
    "        tf.keras.layers.Conv2D(64, kernel_size=3, strides=1, padding = 'same', activation='relu'),\n",
    "        tf.keras.layers.BatchNormalization(),\n",
    "        tf.keras.layers.MaxPool2D(pool_size=2, strides=2),  \n",
    "        \n",
    "        \n",
    "        # Droupout \n",
    "        tf.keras.layers.Dropout(0.2),\n",
    "        \n",
    "        # fully connected layers\n",
    "        tf.keras.layers.Flatten(),\n",
    "        tf.keras.layers.Dense(2048, activation='relu'),\n",
    "        tf.keras.layers.Dense(1024, activation='relu'),\n",
    "        tf.keras.layers.Dropout(0.4),\n",
    "        tf.keras.layers.Dense(512, activation='relu'),\n",
    "        tf.keras.layers.Dense(512, activation='relu'),\n",
    "        tf.keras.layers.Dropout(0.2),\n",
    "        tf.keras.layers.Dense(128, activation='relu'),\n",
    "        tf.keras.layers.Dense(128, activation='relu'),\n",
    "        tf.keras.layers.Dropout(0.3),        \n",
    "        tf.keras.layers.Dense(64, activation='relu'),\n",
    "        tf.keras.layers.Dense(32, activation='relu'),\n",
    "        tf.keras.layers.Dense(1, activation='sigmoid')\n",
    "      ])\n",
    "    \n",
    "       # compile the model \n",
    "    model.compile(optimizer = tf.keras.optimizers.RMSprop() , loss = 'binary_crossentropy' , metrics = ['accuracy'])\n",
    "    \n",
    "    return model"
   ]
  },
  {
   "cell_type": "code",
   "execution_count": 58,
   "id": "cb47099a",
   "metadata": {},
   "outputs": [],
   "source": [
    "model = CNN()"
   ]
  },
  {
   "cell_type": "code",
   "execution_count": 59,
   "id": "76f2f78d",
   "metadata": {},
   "outputs": [
    {
     "name": "stdout",
     "output_type": "stream",
     "text": [
      "Model: \"sequential\"\n",
      "_________________________________________________________________\n",
      "Layer (type)                 Output Shape              Param #   \n",
      "=================================================================\n",
      "conv2d (Conv2D)              (None, 256, 256, 32)      320       \n",
      "_________________________________________________________________\n",
      "batch_normalization (BatchNo (None, 256, 256, 32)      128       \n",
      "_________________________________________________________________\n",
      "max_pooling2d (MaxPooling2D) (None, 128, 128, 32)      0         \n",
      "_________________________________________________________________\n",
      "conv2d_1 (Conv2D)            (None, 128, 128, 64)      18496     \n",
      "_________________________________________________________________\n",
      "batch_normalization_1 (Batch (None, 128, 128, 64)      256       \n",
      "_________________________________________________________________\n",
      "max_pooling2d_1 (MaxPooling2 (None, 64, 64, 64)        0         \n",
      "_________________________________________________________________\n",
      "dropout (Dropout)            (None, 64, 64, 64)        0         \n",
      "_________________________________________________________________\n",
      "conv2d_2 (Conv2D)            (None, 64, 64, 128)       73856     \n",
      "_________________________________________________________________\n",
      "batch_normalization_2 (Batch (None, 64, 64, 128)       512       \n",
      "_________________________________________________________________\n",
      "max_pooling2d_2 (MaxPooling2 (None, 32, 32, 128)       0         \n",
      "_________________________________________________________________\n",
      "conv2d_3 (Conv2D)            (None, 32, 32, 64)        73792     \n",
      "_________________________________________________________________\n",
      "batch_normalization_3 (Batch (None, 32, 32, 64)        256       \n",
      "_________________________________________________________________\n",
      "max_pooling2d_3 (MaxPooling2 (None, 16, 16, 64)        0         \n",
      "_________________________________________________________________\n",
      "conv2d_4 (Conv2D)            (None, 16, 16, 64)        36928     \n",
      "_________________________________________________________________\n",
      "batch_normalization_4 (Batch (None, 16, 16, 64)        256       \n",
      "_________________________________________________________________\n",
      "max_pooling2d_4 (MaxPooling2 (None, 8, 8, 64)          0         \n",
      "_________________________________________________________________\n",
      "conv2d_5 (Conv2D)            (None, 8, 8, 64)          36928     \n",
      "_________________________________________________________________\n",
      "batch_normalization_5 (Batch (None, 8, 8, 64)          256       \n",
      "_________________________________________________________________\n",
      "max_pooling2d_5 (MaxPooling2 (None, 4, 4, 64)          0         \n",
      "_________________________________________________________________\n",
      "conv2d_6 (Conv2D)            (None, 4, 4, 64)          36928     \n",
      "_________________________________________________________________\n",
      "batch_normalization_6 (Batch (None, 4, 4, 64)          256       \n",
      "_________________________________________________________________\n",
      "max_pooling2d_6 (MaxPooling2 (None, 2, 2, 64)          0         \n",
      "_________________________________________________________________\n",
      "conv2d_7 (Conv2D)            (None, 2, 2, 64)          36928     \n",
      "_________________________________________________________________\n",
      "batch_normalization_7 (Batch (None, 2, 2, 64)          256       \n",
      "_________________________________________________________________\n",
      "max_pooling2d_7 (MaxPooling2 (None, 1, 1, 64)          0         \n",
      "_________________________________________________________________\n",
      "dropout_1 (Dropout)          (None, 1, 1, 64)          0         \n",
      "_________________________________________________________________\n",
      "flatten (Flatten)            (None, 64)                0         \n",
      "_________________________________________________________________\n",
      "dense (Dense)                (None, 2048)              133120    \n",
      "_________________________________________________________________\n",
      "dense_1 (Dense)              (None, 1024)              2098176   \n",
      "_________________________________________________________________\n",
      "dropout_2 (Dropout)          (None, 1024)              0         \n",
      "_________________________________________________________________\n",
      "dense_2 (Dense)              (None, 512)               524800    \n",
      "_________________________________________________________________\n",
      "dense_3 (Dense)              (None, 512)               262656    \n",
      "_________________________________________________________________\n",
      "dropout_3 (Dropout)          (None, 512)               0         \n",
      "_________________________________________________________________\n",
      "dense_4 (Dense)              (None, 128)               65664     \n",
      "_________________________________________________________________\n",
      "dense_5 (Dense)              (None, 128)               16512     \n",
      "_________________________________________________________________\n",
      "dropout_4 (Dropout)          (None, 128)               0         \n",
      "_________________________________________________________________\n",
      "dense_6 (Dense)              (None, 64)                8256      \n",
      "_________________________________________________________________\n",
      "dense_7 (Dense)              (None, 32)                2080      \n",
      "_________________________________________________________________\n",
      "dense_8 (Dense)              (None, 1)                 33        \n",
      "=================================================================\n",
      "Total params: 3,427,649\n",
      "Trainable params: 3,426,561\n",
      "Non-trainable params: 1,088\n",
      "_________________________________________________________________\n"
     ]
    }
   ],
   "source": [
    "model.summary()"
   ]
  },
  {
   "cell_type": "code",
   "execution_count": 60,
   "id": "e928bf7c",
   "metadata": {},
   "outputs": [],
   "source": [
    "# Callbacks \n",
    "\n",
    "learning_rate_reduction = tf.keras.callbacks.ReduceLROnPlateau(monitor='val_accuracy', patience = 2, verbose=1,factor=0.2, min_lr=0.00001)\n",
    "\n",
    "checkpoint_cb = tf.keras.callbacks.ModelCheckpoint(\"model.h5\",save_best_only=True)\n",
    "\n",
    "early_stopping_cb = tf.keras.callbacks.EarlyStopping(patience=7,restore_best_weights=True)\n"
   ]
  },
  {
   "cell_type": "code",
   "execution_count": 64,
   "id": "d0cf3151",
   "metadata": {},
   "outputs": [
    {
     "name": "stdout",
     "output_type": "stream",
     "text": [
      "Epoch 1/100\n",
      "131/131 [==============================] - 44s 238ms/step - loss: 0.3642 - accuracy: 0.8205 - val_loss: 6.4806 - val_accuracy: 0.7430\n",
      "Epoch 2/100\n",
      "131/131 [==============================] - 33s 254ms/step - loss: 0.3038 - accuracy: 0.8802 - val_loss: 6.6851 - val_accuracy: 0.7430\n",
      "Epoch 3/100\n",
      "131/131 [==============================] - 33s 252ms/step - loss: 0.2548 - accuracy: 0.9027 - val_loss: 5.2890 - val_accuracy: 0.7430\n",
      "\n",
      "Epoch 00003: ReduceLROnPlateau reducing learning rate to 0.00020000000949949026.\n",
      "Epoch 4/100\n",
      "131/131 [==============================] - 33s 254ms/step - loss: 0.1939 - accuracy: 0.9363 - val_loss: 2.3607 - val_accuracy: 0.7430\n",
      "Epoch 5/100\n",
      "131/131 [==============================] - 34s 258ms/step - loss: 0.1556 - accuracy: 0.9480 - val_loss: 0.5333 - val_accuracy: 0.7718\n",
      "Epoch 6/100\n",
      "131/131 [==============================] - 33s 253ms/step - loss: 0.1455 - accuracy: 0.9516 - val_loss: 0.1654 - val_accuracy: 0.9358\n",
      "Epoch 7/100\n",
      "131/131 [==============================] - 34s 255ms/step - loss: 0.1469 - accuracy: 0.9514 - val_loss: 0.1419 - val_accuracy: 0.9501\n",
      "Epoch 8/100\n",
      "131/131 [==============================] - 34s 257ms/step - loss: 0.1342 - accuracy: 0.9545 - val_loss: 1.2700 - val_accuracy: 0.6683\n",
      "Epoch 9/100\n",
      "131/131 [==============================] - 34s 260ms/step - loss: 0.1297 - accuracy: 0.9549 - val_loss: 0.3028 - val_accuracy: 0.8313\n",
      "\n",
      "Epoch 00009: ReduceLROnPlateau reducing learning rate to 4.0000001899898055e-05.\n",
      "Epoch 10/100\n",
      "131/131 [==============================] - 33s 252ms/step - loss: 0.1297 - accuracy: 0.9559 - val_loss: 0.2602 - val_accuracy: 0.8667\n",
      "Epoch 11/100\n",
      "131/131 [==============================] - 33s 252ms/step - loss: 0.1183 - accuracy: 0.9602 - val_loss: 0.2004 - val_accuracy: 0.9243\n",
      "\n",
      "Epoch 00011: ReduceLROnPlateau reducing learning rate to 1e-05.\n",
      "Epoch 12/100\n",
      "131/131 [==============================] - 33s 249ms/step - loss: 0.0999 - accuracy: 0.9648 - val_loss: 0.1550 - val_accuracy: 0.9473\n",
      "Epoch 13/100\n",
      "131/131 [==============================] - 34s 260ms/step - loss: 0.1100 - accuracy: 0.9655 - val_loss: 0.1558 - val_accuracy: 0.9482\n",
      "Epoch 14/100\n",
      "131/131 [==============================] - 34s 260ms/step - loss: 0.1138 - accuracy: 0.9617 - val_loss: 0.1753 - val_accuracy: 0.9492\n",
      "Epoch 15/100\n",
      "131/131 [==============================] - 34s 259ms/step - loss: 0.1088 - accuracy: 0.9626 - val_loss: 0.1201 - val_accuracy: 0.9655\n",
      "Epoch 16/100\n",
      "131/131 [==============================] - 35s 267ms/step - loss: 0.1122 - accuracy: 0.9655 - val_loss: 0.1480 - val_accuracy: 0.9540\n",
      "Epoch 17/100\n",
      "131/131 [==============================] - 33s 250ms/step - loss: 0.1086 - accuracy: 0.9650 - val_loss: 0.1471 - val_accuracy: 0.9549\n",
      "Epoch 18/100\n",
      "131/131 [==============================] - 33s 251ms/step - loss: 0.1005 - accuracy: 0.9703 - val_loss: 0.1342 - val_accuracy: 0.9578\n",
      "Epoch 19/100\n",
      "131/131 [==============================] - 33s 252ms/step - loss: 0.1159 - accuracy: 0.9667 - val_loss: 0.1390 - val_accuracy: 0.9578\n",
      "Epoch 20/100\n",
      "131/131 [==============================] - 33s 253ms/step - loss: 0.1085 - accuracy: 0.9631 - val_loss: 0.1891 - val_accuracy: 0.9377\n",
      "Epoch 21/100\n",
      "131/131 [==============================] - 33s 251ms/step - loss: 0.1058 - accuracy: 0.9629 - val_loss: 0.2086 - val_accuracy: 0.9262\n",
      "Epoch 22/100\n",
      "131/131 [==============================] - 33s 252ms/step - loss: 0.1031 - accuracy: 0.9662 - val_loss: 0.1196 - val_accuracy: 0.9636\n",
      "Epoch 23/100\n",
      "131/131 [==============================] - 33s 252ms/step - loss: 0.0934 - accuracy: 0.9660 - val_loss: 0.1173 - val_accuracy: 0.9636\n",
      "Epoch 24/100\n",
      "131/131 [==============================] - 33s 253ms/step - loss: 0.1039 - accuracy: 0.9669 - val_loss: 0.1680 - val_accuracy: 0.9463\n",
      "Epoch 25/100\n",
      "131/131 [==============================] - 33s 255ms/step - loss: 0.1004 - accuracy: 0.9655 - val_loss: 0.1611 - val_accuracy: 0.9444\n",
      "Epoch 26/100\n",
      "131/131 [==============================] - 33s 255ms/step - loss: 0.1166 - accuracy: 0.9669 - val_loss: 0.1425 - val_accuracy: 0.9540\n",
      "Epoch 27/100\n",
      "131/131 [==============================] - 34s 259ms/step - loss: 0.1016 - accuracy: 0.9660 - val_loss: 0.1146 - val_accuracy: 0.9674\n",
      "Epoch 28/100\n",
      "131/131 [==============================] - 34s 257ms/step - loss: 0.1027 - accuracy: 0.9660 - val_loss: 0.1303 - val_accuracy: 0.9540\n",
      "Epoch 29/100\n",
      "131/131 [==============================] - 34s 255ms/step - loss: 0.1074 - accuracy: 0.9648 - val_loss: 0.1124 - val_accuracy: 0.9751\n",
      "Epoch 30/100\n",
      "131/131 [==============================] - 33s 253ms/step - loss: 0.1102 - accuracy: 0.9665 - val_loss: 0.2031 - val_accuracy: 0.9156\n",
      "Epoch 31/100\n",
      "131/131 [==============================] - 33s 252ms/step - loss: 0.0919 - accuracy: 0.9693 - val_loss: 0.1469 - val_accuracy: 0.9482\n",
      "Epoch 32/100\n",
      "131/131 [==============================] - 34s 255ms/step - loss: 0.0961 - accuracy: 0.9700 - val_loss: 0.1428 - val_accuracy: 0.9444\n",
      "Epoch 33/100\n",
      "131/131 [==============================] - 33s 255ms/step - loss: 0.1050 - accuracy: 0.9629 - val_loss: 0.1622 - val_accuracy: 0.9386\n",
      "Epoch 34/100\n",
      "131/131 [==============================] - 34s 255ms/step - loss: 0.0995 - accuracy: 0.9672 - val_loss: 0.1577 - val_accuracy: 0.9406\n",
      "Epoch 35/100\n",
      "131/131 [==============================] - 33s 255ms/step - loss: 0.1097 - accuracy: 0.9653 - val_loss: 0.1215 - val_accuracy: 0.9674\n",
      "Epoch 36/100\n",
      "131/131 [==============================] - 33s 254ms/step - loss: 0.1125 - accuracy: 0.9669 - val_loss: 0.1388 - val_accuracy: 0.9569\n",
      "Epoch 37/100\n",
      "131/131 [==============================] - 33s 255ms/step - loss: 0.0974 - accuracy: 0.9667 - val_loss: 0.1443 - val_accuracy: 0.9530\n",
      "Epoch 38/100\n",
      "131/131 [==============================] - 34s 260ms/step - loss: 0.1205 - accuracy: 0.9662 - val_loss: 0.2147 - val_accuracy: 0.9147\n",
      "Epoch 39/100\n",
      "131/131 [==============================] - 34s 256ms/step - loss: 0.1008 - accuracy: 0.9650 - val_loss: 0.1291 - val_accuracy: 0.9578\n"
     ]
    }
   ],
   "source": [
    "history = model.fit(\n",
    "    train_data_gen,\n",
    "    batch_size = 32,\n",
    "    epochs = 100 , \n",
    "    validation_data = val_data_gen,\n",
    "    class_weight = class_weight,\n",
    "    callbacks = [learning_rate_reduction, checkpoint_cb, early_stopping_cb])"
   ]
  },
  {
   "cell_type": "markdown",
   "id": "e24f37de",
   "metadata": {},
   "source": [
    "### Plot the results "
   ]
  },
  {
   "cell_type": "code",
   "execution_count": 66,
   "id": "cee6e9f5",
   "metadata": {},
   "outputs": [
    {
     "data": {
      "image/png": "[encoded data removed]",
      "text/plain": [
       "<Figure size 1440x720 with 2 Axes>"
      ]
     },
     "metadata": {
      "needs_background": "light"
     },
     "output_type": "display_data"
    }
   ],
   "source": [
    "epochs = [i for i in range(39)]\n",
    "fig , ax = plt.subplots(1,2)\n",
    "train_acc = history.history['accuracy']\n",
    "train_loss = history.history['loss']\n",
    "val_acc = history.history['val_accuracy']\n",
    "val_loss = history.history['val_loss']\n",
    "fig.set_size_inches(20,10)\n",
    "\n",
    "ax[0].plot(epochs , train_acc , 'mo-' , label = 'Training Accuracy')\n",
    "ax[0].plot(epochs , val_acc , 'co-' , label = 'Validation Accuracy')\n",
    "ax[0].set_title('Training & Validation Accuracy')\n",
    "ax[0].legend()\n",
    "ax[0].set_xlabel(\"Epochs\")\n",
    "ax[0].set_ylabel(\"Accuracy\")\n",
    "\n",
    "\n",
    "ax[1].plot(epochs , train_loss , 'm-o' , label = 'Training Loss')\n",
    "ax[1].plot(epochs , val_loss , 'c-o' , label = 'Validation Loss')\n",
    "ax[1].set_title('Testing Accuracy & Loss')\n",
    "ax[1].legend()\n",
    "ax[1].set_xlabel(\"Epochs\")\n",
    "ax[1].set_ylabel(\"Training & Validation Loss\")\n",
    "\n",
    "\n",
    "plt.show()"
   ]
  },
  {
   "cell_type": "code",
   "execution_count": 76,
   "id": "39d324f4",
   "metadata": {},
   "outputs": [
    {
     "name": "stdout",
     "output_type": "stream",
     "text": [
      "20/20 [==============================] - 2s 82ms/step - loss: 0.3019 - accuracy: 0.8830\n"
     ]
    }
   ],
   "source": [
    " test_loss , test_accuracy = model.evaluate(test_data_gen)"
   ]
  },
  {
   "cell_type": "code",
   "execution_count": 92,
   "id": "4b2ede23",
   "metadata": {},
   "outputs": [
    {
     "name": "stderr",
     "output_type": "stream",
     "text": [
      "C:\\Users\\Tsaro\\anaconda3\\envs\\tf_gpu2\\lib\\site-packages\\tensorflow\\python\\keras\\engine\\sequential.py:455: UserWarning: `model.predict_classes()` is deprecated and will be removed after 2021-01-01. Please use instead:* `np.argmax(model.predict(x), axis=-1)`,   if your model does multi-class classification   (e.g. if it uses a `softmax` last-layer activation).* `(model.predict(x) > 0.5).astype(\"int32\")`,   if your model does binary classification   (e.g. if it uses a `sigmoid` last-layer activation).\n",
      "  warnings.warn('`model.predict_classes()` is deprecated and '\n"
     ]
    },
    {
     "name": "stdout",
     "output_type": "stream",
     "text": [
      "                     precision    recall  f1-score   support\n",
      "\n",
      "Pneumonia (Class 0)       0.82      0.89      0.85       234\n",
      "   Normal (Class 1)       0.93      0.88      0.90       390\n",
      "\n",
      "           accuracy                           0.88       624\n",
      "          macro avg       0.87      0.88      0.88       624\n",
      "       weighted avg       0.89      0.88      0.88       624\n",
      "\n"
     ]
    }
   ],
   "source": [
    "# Make predictions \n",
    "predictions = model.predict_classes(test_data_gen)\n",
    "\n",
    "predictions = predictions.reshape(1,-1)[0]\n",
    "\n",
    "\n",
    "y_test = test_data_gen.classes\n",
    "\n",
    "\n",
    "print(classification_report(y_test, predictions, target_names = ['Pneumonia (Class 0)','Normal (Class 1)']))\n",
    "\n"
   ]
  },
  {
   "cell_type": "code",
   "execution_count": 98,
   "id": "a1a757d7",
   "metadata": {},
   "outputs": [
    {
     "data": {
      "image/png": "[encoded data removed]",
      "text/plain": [
       "<Figure size 720x720 with 2 Axes>"
      ]
     },
     "metadata": {
      "needs_background": "light"
     },
     "output_type": "display_data"
    }
   ],
   "source": [
    "plt.figure(figsize = (10,10))\n",
    "\n",
    "cm = confusion_matrix(y_test,predictions)\n",
    "\n",
    "ax = sns.heatmap(cm, annot=True, cmap='Blues', fmt='g')\n",
    "\n",
    "ax.set_title('Seaborn Confusion Matrix with labels\\n\\n');\n",
    "ax.set_xlabel('\\nPredicted Values')\n",
    "ax.set_ylabel('Actual Values ');\n",
    "\n",
    "## Ticket labels - List must be in alphabetical order\n",
    "ax.xaxis.set_ticklabels(['Normal','Pneumonia'])\n",
    "ax.yaxis.set_ticklabels(['Normal','Pneumonia'])\n",
    "\n",
    "## Display the visualization of the Confusion Matrix.\n",
    "plt.show()"
   ]
  },
  {
   "cell_type": "code",
   "execution_count": 100,
   "id": "d17330ee",
   "metadata": {},
   "outputs": [
    {
     "name": "stdout",
     "output_type": "stream",
     "text": [
      "Recall of the model is 0.88\n",
      "Precision of the model is 0.93\n",
      "F1 Score of the model is 0.90\n"
     ]
    }
   ],
   "source": [
    "# Compute Performance Metrics\n",
    "tn, fp, fn, tp = cm.ravel()\n",
    "\n",
    "precision = tp/(tp+fp)\n",
    "recall = tp/(tp+fn)\n",
    "f1 = 2*((precision*recall)/(precision+recall))\n",
    "\n",
    "print(\"Recall of the model is {:.2f}\".format(recall))\n",
    "print(\"Precision of the model is {:.2f}\".format(precision))\n",
    "print(\"F1 Score of the model is {:.2f}\".format(f1))"
   ]
  }
 ],
 "metadata": {
  "kernelspec": {
   "display_name": "Python 3 (ipykernel)",
   "language": "python",
   "name": "python3"
  },
  "language_info": {
   "codemirror_mode": {
    "name": "ipython",
    "version": 3
   },
   "file_extension": ".py",
   "mimetype": "text/x-python",
   "name": "python",
   "nbconvert_exporter": "python",
   "pygments_lexer": "ipython3",
   "version": "3.9.12"
  }
 },
 "nbformat": 4,
 "nbformat_minor": 5
}
