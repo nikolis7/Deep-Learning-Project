{
  "nbformat": 4,
  "nbformat_minor": 0,
  "metadata": {
    "colab": {
      "name": "DenseNet_TensorFlow",
      "provenance": [],
      "collapsed_sections": []
    },
    "kernelspec": {
      "name": "python3",
      "display_name": "Python 3"
    },
    "language_info": {
      "name": "python"
    },
    "accelerator": "GPU",
    "gpuClass": "standard"
  },
  "cells": [
    {
      "cell_type": "markdown",
      "source": [
        "# DenseNet121 \n",
        "In this notebook we build DenseNet121 and use it for binary image classification. The data are X-Ray images that contain 2 classes `Normal` and `Pneumonia`. The data are available in this [link](https://drive.google.com/drive/folders/1yZoXee6uN7cLmSfh5pDMJtecUiwqig7I?usp=sharing)"
      ],
      "metadata": {
        "id": "f0nTqsfLEdIc"
      }
    },
    {
      "cell_type": "code",
      "source": [
        "import matplotlib.pyplot as plt\n",
        "import seaborn as sns\n",
        "import numpy as np\n",
        "import pandas as pd\n",
        "import tensorflow as tf \n",
        "from tensorflow.keras.models import Sequential, Model\n",
        "from tensorflow.keras.layers import Dense, Conv2D , MaxPool2D , Flatten , Dropout , BatchNormalization, Input\n",
        "from tensorflow.keras.preprocessing.image import ImageDataGenerator\n",
        "from sklearn.model_selection import train_test_split\n",
        "from tensorflow.keras.preprocessing import image_dataset_from_directory\n",
        "import tensorflow.keras.layers.experimental.preprocessing as preprocessing\n",
        "from tensorflow.keras.layers import ReLU, concatenate\n",
        "from tensorflow.keras.layers import AvgPool2D, GlobalAveragePooling2D\n",
        "import tensorflow.keras.backend as K\n",
        "#from tensorflow.python.keras.layers import wrappers\n",
        "from sklearn.metrics import classification_report,confusion_matrix\n",
        "from tensorflow.python.keras.utils.vis_utils import model_to_dot\n",
        "from IPython.display import SVG\n",
        "import pydot\n",
        "import graphviz\n",
        "import cv2\n",
        "import os"
      ],
      "metadata": {
        "id": "Lo62n6rGqjMD"
      },
      "execution_count": 89,
      "outputs": []
    },
    {
      "cell_type": "code",
      "execution_count": 90,
      "metadata": {
        "colab": {
          "base_uri": "https://localhost:8080/"
        },
        "id": "nsUruyYMpYyy",
        "outputId": "17d3a2e4-c6bb-4393-e3ad-615903a72417"
      },
      "outputs": [
        {
          "output_type": "stream",
          "name": "stdout",
          "text": [
            "Found GPU at: /device:GPU:0\n"
          ]
        }
      ],
      "source": [
        "import tensorflow as tf\n",
        "device_name = tf.test.gpu_device_name()\n",
        "if device_name != '/device:GPU:0':\n",
        "  raise SystemError('GPU device not found')\n",
        "print('Found GPU at: {}'.format(device_name))"
      ]
    },
    {
      "cell_type": "code",
      "source": [
        "from tensorflow.python.client import device_lib\n",
        "device_lib.list_local_devices()"
      ],
      "metadata": {
        "colab": {
          "base_uri": "https://localhost:8080/"
        },
        "id": "Tsitv6Rcphem",
        "outputId": "6760bee6-1e77-4425-b003-11aa23ae27a1"
      },
      "execution_count": 91,
      "outputs": [
        {
          "output_type": "execute_result",
          "data": {
            "text/plain": [
              "[name: \"/device:CPU:0\"\n",
              " device_type: \"CPU\"\n",
              " memory_limit: 268435456\n",
              " locality {\n",
              " }\n",
              " incarnation: 11988330582504834358\n",
              " xla_global_id: -1, name: \"/device:GPU:0\"\n",
              " device_type: \"GPU\"\n",
              " memory_limit: 14465892352\n",
              " locality {\n",
              "   bus_id: 1\n",
              "   links {\n",
              "   }\n",
              " }\n",
              " incarnation: 9321644718704604559\n",
              " physical_device_desc: \"device: 0, name: Tesla T4, pci bus id: 0000:00:04.0, compute capability: 7.5\"\n",
              " xla_global_id: 416903419]"
            ]
          },
          "metadata": {},
          "execution_count": 91
        }
      ]
    },
    {
      "cell_type": "markdown",
      "source": [
        "## Data loading and preprocessing\n",
        "* Load data from Google Drive\n",
        "* Define function to return the image and it's label\n",
        "* Load images from directory and perform slight preprocessing and batching\n",
        "* Split the training set into train/validation sets\n",
        "* Perform data augmentation\n",
        "* Load test set **without** data augmentation\n",
        "* Get and plot the number of classes and their data\n",
        "\n",
        "Since there is class imbalance we adjust the weights of each class to make them equally important"
      ],
      "metadata": {
        "id": "AC2GYWxoxBIH"
      }
    },
    {
      "cell_type": "code",
      "source": [
        "from google.colab import drive\n",
        "drive.mount('/content/drive', force_remount=True)"
      ],
      "metadata": {
        "colab": {
          "base_uri": "https://localhost:8080/"
        },
        "id": "LGdu2Xk7pk9K",
        "outputId": "d4296bcf-e6eb-4526-96d5-e2cf963c2d6e"
      },
      "execution_count": 92,
      "outputs": [
        {
          "output_type": "stream",
          "name": "stdout",
          "text": [
            "Mounted at /content/drive\n"
          ]
        }
      ]
    },
    {
      "cell_type": "code",
      "source": [
        "def process_img(img, label):\n",
        "    img = tf.image.convert_image_dtype(img, dtype=tf.float32)\n",
        "    return img, label\n",
        "\n",
        "train_ds = image_dataset_from_directory(\n",
        "    'drive/My Drive/chest_xray/train',\n",
        "    labels='inferred',\n",
        "    shuffle=True,\n",
        "    batch_size=64,\n",
        "    image_size=(256,256),\n",
        "    color_mode='grayscale',\n",
        "    label_mode='binary',\n",
        "    interpolation='nearest'\n",
        ").map(process_img)\n",
        "\n",
        "test_ds = image_dataset_from_directory(\n",
        "    'drive/My Drive/chest_xray/test',\n",
        "    labels='inferred',\n",
        "    shuffle=False,\n",
        "    batch_size=64,\n",
        "    image_size=(256,256),\n",
        "    color_mode='grayscale',\n",
        "    label_mode='binary',\n",
        "    interpolation='nearest'\n",
        ").map(process_img)"
      ],
      "metadata": {
        "colab": {
          "base_uri": "https://localhost:8080/"
        },
        "id": "LHlCvrvkpnPS",
        "outputId": "86c4202f-3fa7-4633-e086-60efdc68e91e"
      },
      "execution_count": 93,
      "outputs": [
        {
          "output_type": "stream",
          "name": "stdout",
          "text": [
            "Found 5216 files belonging to 2 classes.\n",
            "Found 624 files belonging to 2 classes.\n"
          ]
        }
      ]
    },
    {
      "cell_type": "code",
      "source": [
        "image_generator = tf.keras.preprocessing.image.ImageDataGenerator(rescale=1./255,\n",
        "                                                                  shear_range=0.2,\n",
        "                                                                  zoom_range=0.2,\n",
        "                                                                  horizontal_flip=True,\n",
        "                                                                  rotation_range = 30,\n",
        "                                                                  vertical_flip=True,\n",
        "                                                                  validation_split=0.20)\n",
        "\n",
        "train_data_gen = image_generator.flow_from_directory(directory='drive/My Drive/chest_xray/train',\n",
        "                                                     target_size=(256, 256),\n",
        "                                                     color_mode=\"grayscale\",\n",
        "                                                     class_mode='binary',\n",
        "                                                     batch_size=32,\n",
        "                                                     shuffle=True,\n",
        "                                                     subset='training')\n",
        "\n",
        "\n",
        "val_data_gen = image_generator.flow_from_directory(directory='drive/My Drive/chest_xray/train',\n",
        "                                                     target_size=(256, 256),\n",
        "                                                     color_mode=\"grayscale\",\n",
        "                                                     class_mode='binary',\n",
        "                                                     batch_size=32,\n",
        "                                                     shuffle=False,\n",
        "                                                     subset='validation')"
      ],
      "metadata": {
        "colab": {
          "base_uri": "https://localhost:8080/"
        },
        "id": "ZqADFdcpqc_f",
        "outputId": "945cd928-25db-4d61-f607-39925a4922b7"
      },
      "execution_count": 94,
      "outputs": [
        {
          "output_type": "stream",
          "name": "stdout",
          "text": [
            "Found 4173 images belonging to 2 classes.\n",
            "Found 1043 images belonging to 2 classes.\n"
          ]
        }
      ]
    },
    {
      "cell_type": "code",
      "source": [
        "image_generator2 = tf.keras.preprocessing.image.ImageDataGenerator(rescale=1./255)\n",
        "\n",
        "test_data_gen = image_generator2.flow_from_directory(directory='drive/My Drive/chest_xray/test', \n",
        "                                                    target_size=(256, 256),\n",
        "                                                    color_mode=\"grayscale\",\n",
        "                                                    class_mode='binary',\n",
        "                                                    batch_size=32,\n",
        "                                                    shuffle=False)"
      ],
      "metadata": {
        "colab": {
          "base_uri": "https://localhost:8080/"
        },
        "id": "Lem2L3xqq0MZ",
        "outputId": "e3e3880f-c453-403f-f276-5f57d770d2fb"
      },
      "execution_count": 95,
      "outputs": [
        {
          "output_type": "stream",
          "name": "stdout",
          "text": [
            "Found 624 images belonging to 2 classes.\n"
          ]
        }
      ]
    },
    {
      "cell_type": "code",
      "source": [
        "filenames = tf.io.gfile.glob(str('drive/My Drive/chest_xray/train/*/*'))\n",
        "\n",
        "Normal = len([filenames for filename in filenames   if \"NORMAL\" in filename])\n",
        "print(\"Normal images count in training set: \" + str(Normal))\n",
        "\n",
        "Pneumonia = len([filenames for filename in filenames   if \"PNEUMONIA\" in filename])\n",
        "print(\"Pneumonia images count in training set: \" + str(Pneumonia))\n"
      ],
      "metadata": {
        "colab": {
          "base_uri": "https://localhost:8080/"
        },
        "id": "H4uy5nBXrMq2",
        "outputId": "c47ad982-dfce-4761-b4f3-a352465c9ba7"
      },
      "execution_count": 96,
      "outputs": [
        {
          "output_type": "stream",
          "name": "stdout",
          "text": [
            "Normal images count in training set: 1341\n",
            "Pneumonia images count in training set: 3875\n"
          ]
        }
      ]
    },
    {
      "cell_type": "code",
      "source": [
        "plt.figure(figsize=(10,5))\n",
        "\n",
        "# create dataset\n",
        "height = [Normal, Pneumonia]\n",
        "bars = ('Normal', 'Pneumonia')\n",
        "\n",
        " \n",
        "# Create bars and choose color\n",
        "plt.bar(bars, height, color = (0.5,0.1,0.5,0.6))\n",
        " \n",
        "# Add title and axis names\n",
        "plt.title('Test set')\n",
        "plt.xlabel('Class')\n",
        "plt.ylabel('values')\n",
        " \n",
        "# Show graph\n",
        "plt.show()"
      ],
      "metadata": {
        "colab": {
          "base_uri": "https://localhost:8080/",
          "height": 350
        },
        "id": "2kKgP8p7sKhx",
        "outputId": "91534f0a-6830-41b6-d7ce-545e5a83b792"
      },
      "execution_count": 97,
      "outputs": [
        {
          "output_type": "display_data",
          "data": {
            "text/plain": [
              "<Figure size 720x360 with 1 Axes>"
            ],
            "image/png": "[encoded data removed]"
          },
          "metadata": {
            "needs_background": "light"
          }
        }
      ]
    },
    {
      "cell_type": "code",
      "source": [
        "weight_Normal = (1 / Normal)*(4173)/2.0 \n",
        "weight_Pneumonia = (1 / Pneumonia)*(4173)/2.0\n",
        "\n",
        "class_weight = {0: weight_Normal, 1: weight_Pneumonia}\n",
        "\n",
        "print('Weight for Normal: {:.2f}'.format(weight_Normal))\n",
        "print('Weight for Pneumonia: {:.2f}'.format(weight_Pneumonia))"
      ],
      "metadata": {
        "colab": {
          "base_uri": "https://localhost:8080/"
        },
        "id": "_youdTVTtKD-",
        "outputId": "859c6c9a-e075-437b-ce67-0629d86f005c"
      },
      "execution_count": 98,
      "outputs": [
        {
          "output_type": "stream",
          "name": "stdout",
          "text": [
            "Weight for Normal: 1.56\n",
            "Weight for Pneumonia: 0.54\n"
          ]
        }
      ]
    },
    {
      "cell_type": "markdown",
      "source": [
        "## Creating DenseNet\n",
        "\n",
        "DenseNet (Dense Convolutional Network) is an architecture that focuses on making the deep learning networks go even deeper, but at the same time making them more efficient to train, by using shorter connections between the layers. DenseNet is a convolutional neural network where each layer is connected to all other layers that are deeper in the network. This is done to enable maximum information flow between the layers of the network. To preserve the feed-forward nature, each layer obtains inputs from all the previous layers and passes on its own feature maps to all the layers which will come after it.\n",
        "\n",
        "DenseNet consists of two important blocks other than the basic convolutional and pooling layers:\n",
        "* The Dense Blocks \n",
        "* The Transition layers"
      ],
      "metadata": {
        "id": "pGfr5qtOv6z0"
      }
    },
    {
      "cell_type": "code",
      "source": [
        "#Build the model\n",
        "def densenet(input_shape, n_classes, filters = 32):\n",
        "    \n",
        "    def bn_rl_conv(x,filters,kernel=1,strides=1):\n",
        "        \n",
        "        x = BatchNormalization()(x)\n",
        "        x = ReLU()(x)\n",
        "        x = Conv2D(filters, kernel, strides=strides,padding = 'same')(x)\n",
        "        return x\n",
        "    \n",
        "    def dense_block(x, repetition):\n",
        "        \n",
        "        for _ in range(repetition):\n",
        "            y = bn_rl_conv(x, 4*filters)\n",
        "            y = bn_rl_conv(y, filters, 3)\n",
        "            x = concatenate([y,x])\n",
        "        return x\n",
        "        \n",
        "    def transition_layer(x):\n",
        "        \n",
        "        x = bn_rl_conv(x, K.int_shape(x)[-1] //2 )\n",
        "        x = AvgPool2D(2, strides = 2, padding = 'same')(x)\n",
        "        return x\n",
        "    \n",
        "    input = Input (input_shape)\n",
        "    x = Conv2D(64, 7, strides = 2, padding = 'same')(input)\n",
        "    x = MaxPool2D(3, strides = 2, padding = 'same')(x)\n",
        "    \n",
        "    for repetition in [6,12,24,16]:\n",
        "        \n",
        "        d = dense_block(x, repetition)\n",
        "        x = transition_layer(d)\n",
        "    x = GlobalAveragePooling2D()(d)\n",
        "    output = Dense(n_classes, activation = 'sigmoid')(x)\n",
        "    \n",
        "    model = Model(input, output)\n",
        "    return model"
      ],
      "metadata": {
        "id": "VLbGi-GXzM6U"
      },
      "execution_count": 99,
      "outputs": []
    },
    {
      "cell_type": "markdown",
      "source": [
        "This is the architecture of the DenseNet"
      ],
      "metadata": {
        "id": "RsxISpyh09eM"
      }
    },
    {
      "cell_type": "code",
      "source": [
        "model = densenet((256,256,1) , 1)\n",
        "#model.summary()"
      ],
      "metadata": {
        "id": "LpH7KpBY0Qt2"
      },
      "execution_count": 114,
      "outputs": []
    },
    {
      "cell_type": "code",
      "source": [
        "#Compile the model\n",
        "model.compile(optimizer = tf.keras.optimizers.RMSprop() , loss = 'binary_crossentropy' , metrics = ['accuracy'])"
      ],
      "metadata": {
        "id": "TMRwbk3v2vX7"
      },
      "execution_count": 115,
      "outputs": []
    },
    {
      "cell_type": "markdown",
      "source": [
        "This code helps visualise the DenseNet"
      ],
      "metadata": {
        "id": "YQTO6iJA2B9J"
      }
    },
    {
      "cell_type": "code",
      "source": [
        "'''\n",
        "SVG(model_to_dot\n",
        "    (model, show_shapes=True, show_layer_names=True, rankdir='TB', expand_nested=False, dpi=60, subgraph=False\n",
        ").create(prog='dot',format='svg'))\n",
        "'''"
      ],
      "metadata": {
        "colab": {
          "base_uri": "https://localhost:8080/",
          "height": 36
        },
        "id": "6vH2mMpA0WUe",
        "outputId": "c7b935e4-3a02-4246-cd35-816104127e91"
      },
      "execution_count": 102,
      "outputs": [
        {
          "output_type": "execute_result",
          "data": {
            "text/plain": [
              "\"\\nSVG(model_to_dot\\n    (model, show_shapes=True, show_layer_names=True, rankdir='TB', expand_nested=False, dpi=60, subgraph=False\\n).create(prog='dot',format='svg'))\\n\""
            ],
            "application/vnd.google.colaboratory.intrinsic+json": {
              "type": "string"
            }
          },
          "metadata": {},
          "execution_count": 102
        }
      ]
    },
    {
      "cell_type": "code",
      "source": [
        "learning_rate_reduction = tf.keras.callbacks.ReduceLROnPlateau(monitor='val_accuracy', patience = 2, verbose=1,factor=0.2, min_lr=0.00001)\n",
        "early_stopping_cb = tf.keras.callbacks.EarlyStopping(patience=7,restore_best_weights=True)"
      ],
      "metadata": {
        "id": "Z00wCRos1KzI"
      },
      "execution_count": 103,
      "outputs": []
    },
    {
      "cell_type": "code",
      "source": [
        "#Fit the model\n",
        "history = model.fit(\n",
        "    train_data_gen,\n",
        "    batch_size = 64,\n",
        "    epochs = 1 , \n",
        "    validation_data = val_data_gen,\n",
        "    class_weight = class_weight,\n",
        "    callbacks = [learning_rate_reduction, early_stopping_cb])"
      ],
      "metadata": {
        "colab": {
          "base_uri": "https://localhost:8080/"
        },
        "id": "ZiBsVNmx2htM",
        "outputId": "71dc1764-9dcf-468d-ec64-339f352dfea8"
      },
      "execution_count": 105,
      "outputs": [
        {
          "output_type": "stream",
          "name": "stdout",
          "text": [
            "131/131 [==============================] - 685s 5s/step - loss: 0.6152 - accuracy: 0.7695 - val_loss: 2.5099 - val_accuracy: 0.7430 - lr: 0.0010\n"
          ]
        }
      ]
    },
    {
      "cell_type": "markdown",
      "source": [
        "## Plot the results"
      ],
      "metadata": {
        "id": "wSoENNhU2mvf"
      }
    },
    {
      "cell_type": "code",
      "source": [
        "epochs = 1 #[i for i in range(39)]\n",
        "fig , ax = plt.subplots(1,2)\n",
        "train_acc = history.history['accuracy']\n",
        "train_loss = history.history['loss']\n",
        "val_acc = history.history['val_accuracy']\n",
        "val_loss = history.history['val_loss']\n",
        "fig.set_size_inches(20,10)\n",
        "\n",
        "ax[0].plot(epochs , train_acc , 'mo-' , label = 'Training Accuracy')\n",
        "ax[0].plot(epochs , val_acc , 'co-' , label = 'Validation Accuracy')\n",
        "ax[0].set_title('Training & Validation Accuracy')\n",
        "ax[0].legend()\n",
        "ax[0].set_xlabel(\"Epochs\")\n",
        "ax[0].set_ylabel(\"Accuracy\")\n",
        "\n",
        "\n",
        "ax[1].plot(epochs , train_loss , 'm-o' , label = 'Training Loss')\n",
        "ax[1].plot(epochs , val_loss , 'c-o' , label = 'Validation Loss')\n",
        "ax[1].set_title('Testing Accuracy & Loss')\n",
        "ax[1].legend()\n",
        "ax[1].set_xlabel(\"Epochs\")\n",
        "ax[1].set_ylabel(\"Training & Validation Loss\")\n",
        "\n",
        "\n",
        "plt.show()"
      ],
      "metadata": {
        "colab": {
          "base_uri": "https://localhost:8080/",
          "height": 621
        },
        "id": "5oVQlUBx76t7",
        "outputId": "d72cb0aa-36c8-4044-a69b-3a7f880c530a"
      },
      "execution_count": 107,
      "outputs": [
        {
          "output_type": "display_data",
          "data": {
            "text/plain": [
              "<Figure size 1440x720 with 2 Axes>"
            ],
            "image/png": "[encoded data removed]"
          },
          "metadata": {
            "needs_background": "light"
          }
        }
      ]
    },
    {
      "cell_type": "markdown",
      "source": [
        "## Evaluate the model\n",
        "* Evaluate and make predictions with the test set\n",
        "* Plot the confusion matrix\n",
        "* Compute the performance metrics|"
      ],
      "metadata": {
        "id": "oJj7oWWs7_3D"
      }
    },
    {
      "cell_type": "code",
      "source": [
        "# Evaluate\n",
        "test_loss , test_accuracy = model.evaluate(test_data_gen)"
      ],
      "metadata": {
        "colab": {
          "base_uri": "https://localhost:8080/"
        },
        "id": "5vILjQJk78A-",
        "outputId": "95cab5f1-15c9-45b3-b818-e3fb8558bd15"
      },
      "execution_count": 108,
      "outputs": [
        {
          "output_type": "stream",
          "name": "stdout",
          "text": [
            "20/20 [==============================] - 353s 19s/step - loss: 3.8414 - accuracy: 0.6250\n"
          ]
        }
      ]
    },
    {
      "cell_type": "code",
      "source": [
        "# Make predictions \n",
        "predictions = model.predict(test_data_gen)\n",
        "\n",
        "#predictions = predictions.reshape(1,-1)[0]\n",
        "predictions = predictions.round()\n",
        "\n",
        "y_test = test_data_gen.classes\n",
        "\n",
        "\n",
        "print(classification_report(y_test, predictions, target_names = ['Normal (Class 0)','Pneumonia (Class 1)']))"
      ],
      "metadata": {
        "colab": {
          "base_uri": "https://localhost:8080/"
        },
        "id": "l31Bj7YK8Vqj",
        "outputId": "c2cef6d8-ccea-460e-fc66-2d1d01f805d7"
      },
      "execution_count": 111,
      "outputs": [
        {
          "output_type": "stream",
          "name": "stdout",
          "text": [
            "                     precision    recall  f1-score   support\n",
            "\n",
            "Pneumonia (Class 0)       0.00      0.00      0.00       234\n",
            "   Normal (Class 1)       0.62      1.00      0.77       390\n",
            "\n",
            "           accuracy                           0.62       624\n",
            "          macro avg       0.31      0.50      0.38       624\n",
            "       weighted avg       0.39      0.62      0.48       624\n",
            "\n"
          ]
        },
        {
          "output_type": "stream",
          "name": "stderr",
          "text": [
            "/usr/local/lib/python3.7/dist-packages/sklearn/metrics/_classification.py:1318: UndefinedMetricWarning: Precision and F-score are ill-defined and being set to 0.0 in labels with no predicted samples. Use `zero_division` parameter to control this behavior.\n",
            "  _warn_prf(average, modifier, msg_start, len(result))\n",
            "/usr/local/lib/python3.7/dist-packages/sklearn/metrics/_classification.py:1318: UndefinedMetricWarning: Precision and F-score are ill-defined and being set to 0.0 in labels with no predicted samples. Use `zero_division` parameter to control this behavior.\n",
            "  _warn_prf(average, modifier, msg_start, len(result))\n",
            "/usr/local/lib/python3.7/dist-packages/sklearn/metrics/_classification.py:1318: UndefinedMetricWarning: Precision and F-score are ill-defined and being set to 0.0 in labels with no predicted samples. Use `zero_division` parameter to control this behavior.\n",
            "  _warn_prf(average, modifier, msg_start, len(result))\n"
          ]
        }
      ]
    },
    {
      "cell_type": "code",
      "source": [
        "# Plot confusion matrix\n",
        "plt.figure(figsize = (10,10))\n",
        "\n",
        "cm = confusion_matrix(y_test,predictions)\n",
        "\n",
        "ax = sns.heatmap(cm, annot=True, cmap='Blues', fmt='g')\n",
        "\n",
        "ax.set_title('Seaborn Confusion Matrix with labels\\n\\n');\n",
        "ax.set_xlabel('\\nPredicted Values')\n",
        "ax.set_ylabel('Actual Values ');\n",
        "\n",
        "## Ticket labels - List must be in alphabetical order\n",
        "ax.xaxis.set_ticklabels(['Normal','Pneumonia'])\n",
        "ax.yaxis.set_ticklabels(['Normal','Pneumonia'])\n",
        "\n",
        "## Display the visualization of the Confusion Matrix.\n",
        "plt.show()"
      ],
      "metadata": {
        "colab": {
          "base_uri": "https://localhost:8080/",
          "height": 663
        },
        "id": "brbuC6Ch8Xbx",
        "outputId": "f3979a09-32c2-42e9-ba46-63a0ab7f25ec"
      },
      "execution_count": 112,
      "outputs": [
        {
          "output_type": "display_data",
          "data": {
            "text/plain": [
              "<Figure size 720x720 with 2 Axes>"
            ],
            "image/png": "[encoded data removed]"
          },
          "metadata": {
            "needs_background": "light"
          }
        }
      ]
    },
    {
      "cell_type": "code",
      "source": [
        "# Compute Performance Metrics\n",
        "tn, fp, fn, tp = cm.ravel()\n",
        "\n",
        "precision = tp/(tp+fp)\n",
        "recall = tp/(tp+fn)\n",
        "f1 = 2*((precision*recall)/(precision+recall))\n",
        "\n",
        "print(\"Recall of the model is {:.2f}\".format(recall))\n",
        "print(\"Precision of the model is {:.2f}\".format(precision))\n",
        "print(\"F1 Score of the model is {:.2f}\".format(f1))"
      ],
      "metadata": {
        "colab": {
          "base_uri": "https://localhost:8080/"
        },
        "id": "HpsJXrkP8aqR",
        "outputId": "ef68e4c2-3a51-414c-d8a8-2223e1098d68"
      },
      "execution_count": 113,
      "outputs": [
        {
          "output_type": "stream",
          "name": "stdout",
          "text": [
            "Recall of the model is 1.00\n",
            "Precision of the model is 0.62\n",
            "F1 Score of the model is 0.77\n"
          ]
        }
      ]
    },
    {
      "cell_type": "code",
      "source": [
        ""
      ],
      "metadata": {
        "id": "1iTcIiC7DFXJ"
      },
      "execution_count": null,
      "outputs": []
    }
  ]
}
