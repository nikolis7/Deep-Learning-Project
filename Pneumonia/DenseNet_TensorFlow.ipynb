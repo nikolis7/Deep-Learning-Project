{
  "nbformat": 4,
  "nbformat_minor": 0,
  "metadata": {
    "colab": {
      "name": "DenseNet_TensorFlow",
      "provenance": [],
      "collapsed_sections": []
    },
    "kernelspec": {
      "name": "python3",
      "display_name": "Python 3"
    },
    "language_info": {
      "name": "python"
    },
    "accelerator": "GPU",
    "gpuClass": "standard"
  },
  "cells": [
    {
      "cell_type": "markdown",
      "source": [
        "# DenseNet121 \n",
        "In this notebook we build DenseNet121 and use it for binary image classification. The data are X-Ray images that contain 2 classes `Normal` and `Pneumonia`. The data are available in this [link](https://drive.google.com/drive/folders/1yZoXee6uN7cLmSfh5pDMJtecUiwqig7I?usp=sharing)\n",
        "\n",
        "This is the link to this notebook: https://colab.research.google.com/drive/1M8ludkMwiNN7wJxRQfquzcu9aFO1yl71?usp=sharing "
      ],
      "metadata": {
        "id": "f0nTqsfLEdIc"
      }
    },
    {
      "cell_type": "code",
      "source": [
        "import matplotlib.pyplot as plt\n",
        "import seaborn as sns\n",
        "import numpy as np\n",
        "import pandas as pd\n",
        "import tensorflow as tf \n",
        "from tensorflow.keras.models import Sequential, Model\n",
        "from tensorflow.keras.layers import Dense, Conv2D , MaxPool2D , Flatten , Dropout , BatchNormalization, Input\n",
        "from tensorflow.keras.preprocessing.image import ImageDataGenerator\n",
        "from sklearn.model_selection import train_test_split\n",
        "from tensorflow.keras.preprocessing import image_dataset_from_directory\n",
        "import tensorflow.keras.layers.experimental.preprocessing as preprocessing\n",
        "from tensorflow.keras.layers import ReLU, concatenate\n",
        "from tensorflow.keras.layers import AvgPool2D, GlobalAveragePooling2D\n",
        "import tensorflow.keras.backend as K\n",
        "#from tensorflow.python.keras.layers import wrappers\n",
        "from sklearn.metrics import classification_report,confusion_matrix\n",
        "from tensorflow.python.keras.utils.vis_utils import model_to_dot\n",
        "from IPython.display import SVG\n",
        "import pydot\n",
        "import graphviz\n",
        "import cv2\n",
        "import os"
      ],
      "metadata": {
        "id": "Lo62n6rGqjMD"
      },
      "execution_count": null,
      "outputs": []
    },
    {
      "cell_type": "code",
      "execution_count": null,
      "metadata": {
        "colab": {
          "base_uri": "https://localhost:8080/"
        },
        "id": "nsUruyYMpYyy",
        "outputId": "dad48601-2853-495a-c644-38e0b6f5dd16"
      },
      "outputs": [
        {
          "output_type": "stream",
          "name": "stdout",
          "text": [
            "Found GPU at: /device:GPU:0\n"
          ]
        }
      ],
      "source": [
        "import tensorflow as tf\n",
        "device_name = tf.test.gpu_device_name()\n",
        "if device_name != '/device:GPU:0':\n",
        "  raise SystemError('GPU device not found')\n",
        "print('Found GPU at: {}'.format(device_name))"
      ]
    },
    {
      "cell_type": "code",
      "source": [
        "from tensorflow.python.client import device_lib\n",
        "device_lib.list_local_devices()"
      ],
      "metadata": {
        "colab": {
          "base_uri": "https://localhost:8080/"
        },
        "id": "Tsitv6Rcphem",
        "outputId": "660e291c-f587-4737-cfe9-b4b3743c0989"
      },
      "execution_count": null,
      "outputs": [
        {
          "output_type": "execute_result",
          "data": {
            "text/plain": [
              "[name: \"/device:CPU:0\"\n",
              " device_type: \"CPU\"\n",
              " memory_limit: 268435456\n",
              " locality {\n",
              " }\n",
              " incarnation: 17271903163815595038\n",
              " xla_global_id: -1, name: \"/device:GPU:0\"\n",
              " device_type: \"GPU\"\n",
              " memory_limit: 14465892352\n",
              " locality {\n",
              "   bus_id: 1\n",
              "   links {\n",
              "   }\n",
              " }\n",
              " incarnation: 15179727289318965024\n",
              " physical_device_desc: \"device: 0, name: Tesla T4, pci bus id: 0000:00:04.0, compute capability: 7.5\"\n",
              " xla_global_id: 416903419]"
            ]
          },
          "metadata": {},
          "execution_count": 3
        }
      ]
    },
    {
      "cell_type": "markdown",
      "source": [
        "## Data loading and preprocessing\n",
        "* Load data from Google Drive\n",
        "* Define function to return the image and it's label\n",
        "* Load images from directory and perform slight preprocessing and batching\n",
        "* Split the training set into train/validation sets\n",
        "* Perform data augmentation\n",
        "* Load test set **without** data augmentation\n",
        "* Get and plot the number of classes and their data\n",
        "\n",
        "Since there is class imbalance we adjust the weights of each class to make them equally important"
      ],
      "metadata": {
        "id": "AC2GYWxoxBIH"
      }
    },
    {
      "cell_type": "code",
      "source": [
        "from google.colab import drive\n",
        "drive.mount('/content/drive', force_remount=True)"
      ],
      "metadata": {
        "colab": {
          "base_uri": "https://localhost:8080/"
        },
        "id": "LGdu2Xk7pk9K",
        "outputId": "ba736da6-4ea7-4582-8222-8faa9150d5ae"
      },
      "execution_count": null,
      "outputs": [
        {
          "output_type": "stream",
          "name": "stdout",
          "text": [
            "Mounted at /content/drive\n"
          ]
        }
      ]
    },
    {
      "cell_type": "code",
      "source": [
        "def process_img(img, label):\n",
        "    img = tf.image.convert_image_dtype(img, dtype=tf.float32)\n",
        "    return img, label\n",
        "\n",
        "train_ds = image_dataset_from_directory(\n",
        "    'drive/My Drive/chest_xray/train',\n",
        "    labels='inferred',\n",
        "    shuffle=True,\n",
        "    batch_size=64,\n",
        "    image_size=(256,256),\n",
        "    color_mode='grayscale',\n",
        "    label_mode='binary',\n",
        "    interpolation='nearest'\n",
        ").map(process_img)\n",
        "\n",
        "test_ds = image_dataset_from_directory(\n",
        "    'drive/My Drive/chest_xray/test',\n",
        "    labels='inferred',\n",
        "    shuffle=False,\n",
        "    batch_size=64,\n",
        "    image_size=(256,256),\n",
        "    color_mode='grayscale',\n",
        "    label_mode='binary',\n",
        "    interpolation='nearest'\n",
        ").map(process_img)"
      ],
      "metadata": {
        "colab": {
          "base_uri": "https://localhost:8080/"
        },
        "id": "LHlCvrvkpnPS",
        "outputId": "3e88968b-7cd3-49da-fd15-bc39de847df5"
      },
      "execution_count": null,
      "outputs": [
        {
          "output_type": "stream",
          "name": "stdout",
          "text": [
            "Found 5216 files belonging to 2 classes.\n",
            "Found 624 files belonging to 2 classes.\n"
          ]
        }
      ]
    },
    {
      "cell_type": "code",
      "source": [
        "image_generator = tf.keras.preprocessing.image.ImageDataGenerator(rescale=1./255,\n",
        "                                                                  shear_range=0.2,\n",
        "                                                                  zoom_range=0.2,\n",
        "                                                                  horizontal_flip=True,\n",
        "                                                                  rotation_range = 30,\n",
        "                                                                  vertical_flip=True,\n",
        "                                                                  validation_split=0.20)\n",
        "\n",
        "train_data_gen = image_generator.flow_from_directory(directory='drive/My Drive/chest_xray/train',\n",
        "                                                     target_size=(256, 256),\n",
        "                                                     color_mode=\"grayscale\",\n",
        "                                                     class_mode='binary',\n",
        "                                                     batch_size=32,\n",
        "                                                     shuffle=True,\n",
        "                                                     subset='training')\n",
        "\n",
        "\n",
        "val_data_gen = image_generator.flow_from_directory(directory='drive/My Drive/chest_xray/train',\n",
        "                                                     target_size=(256, 256),\n",
        "                                                     color_mode=\"grayscale\",\n",
        "                                                     class_mode='binary',\n",
        "                                                     batch_size=32,\n",
        "                                                     shuffle=False,\n",
        "                                                     subset='validation')"
      ],
      "metadata": {
        "colab": {
          "base_uri": "https://localhost:8080/"
        },
        "id": "ZqADFdcpqc_f",
        "outputId": "07f36ce5-41f6-4ca9-f352-0012917f2c2b"
      },
      "execution_count": null,
      "outputs": [
        {
          "output_type": "stream",
          "name": "stdout",
          "text": [
            "Found 4173 images belonging to 2 classes.\n",
            "Found 1043 images belonging to 2 classes.\n"
          ]
        }
      ]
    },
    {
      "cell_type": "code",
      "source": [
        "image_generator2 = tf.keras.preprocessing.image.ImageDataGenerator(rescale=1./255)\n",
        "\n",
        "test_data_gen = image_generator2.flow_from_directory(directory='drive/My Drive/chest_xray/test', \n",
        "                                                    target_size=(256, 256),\n",
        "                                                    color_mode=\"grayscale\",\n",
        "                                                    class_mode='binary',\n",
        "                                                    batch_size=32,\n",
        "                                                    shuffle=False)"
      ],
      "metadata": {
        "colab": {
          "base_uri": "https://localhost:8080/"
        },
        "id": "Lem2L3xqq0MZ",
        "outputId": "788c337a-fe27-44be-e6a3-b56077848ae6"
      },
      "execution_count": null,
      "outputs": [
        {
          "output_type": "stream",
          "name": "stdout",
          "text": [
            "Found 624 images belonging to 2 classes.\n"
          ]
        }
      ]
    },
    {
      "cell_type": "code",
      "source": [
        "filenames = tf.io.gfile.glob(str('drive/My Drive/chest_xray/train/*/*'))\n",
        "\n",
        "Normal = len([filenames for filename in filenames   if \"NORMAL\" in filename])\n",
        "print(\"Normal images count in training set: \" + str(Normal))\n",
        "\n",
        "Pneumonia = len([filenames for filename in filenames   if \"PNEUMONIA\" in filename])\n",
        "print(\"Pneumonia images count in training set: \" + str(Pneumonia))\n"
      ],
      "metadata": {
        "colab": {
          "base_uri": "https://localhost:8080/"
        },
        "id": "H4uy5nBXrMq2",
        "outputId": "0f558a68-3744-461f-ce9b-80f07ef67a31"
      },
      "execution_count": null,
      "outputs": [
        {
          "output_type": "stream",
          "name": "stdout",
          "text": [
            "Normal images count in training set: 1341\n",
            "Pneumonia images count in training set: 3875\n"
          ]
        }
      ]
    },
    {
      "cell_type": "code",
      "source": [
        "plt.figure(figsize=(10,5))\n",
        "\n",
        "# create dataset\n",
        "height = [Normal, Pneumonia]\n",
        "bars = ('Normal', 'Pneumonia')\n",
        "\n",
        " \n",
        "# Create bars and choose color\n",
        "plt.bar(bars, height, color = (0.5,0.1,0.5,0.6))\n",
        " \n",
        "# Add title and axis names\n",
        "plt.title('Test set')\n",
        "plt.xlabel('Class')\n",
        "plt.ylabel('values')\n",
        " \n",
        "# Show graph\n",
        "plt.show()"
      ],
      "metadata": {
        "colab": {
          "base_uri": "https://localhost:8080/",
          "height": 350
        },
        "id": "2kKgP8p7sKhx",
        "outputId": "1320b9e1-9246-4010-ee2c-5a4c7372cca7"
      },
      "execution_count": null,
      "outputs": [
        {
          "output_type": "display_data",
          "data": {
            "text/plain": [
              "<Figure size 720x360 with 1 Axes>"
            ],
            "image/png": "[encoded data removed]"
          },
          "metadata": {
            "needs_background": "light"
          }
        }
      ]
    },
    {
      "cell_type": "code",
      "source": [
        "weight_Normal = (1 / Normal)*(4173)/2.0 \n",
        "weight_Pneumonia = (1 / Pneumonia)*(4173)/2.0\n",
        "\n",
        "class_weight = {0: weight_Normal, 1: weight_Pneumonia}\n",
        "\n",
        "print('Weight for Normal: {:.2f}'.format(weight_Normal))\n",
        "print('Weight for Pneumonia: {:.2f}'.format(weight_Pneumonia))"
      ],
      "metadata": {
        "colab": {
          "base_uri": "https://localhost:8080/"
        },
        "id": "_youdTVTtKD-",
        "outputId": "b68c4243-1c70-4455-d845-91355da09395"
      },
      "execution_count": null,
      "outputs": [
        {
          "output_type": "stream",
          "name": "stdout",
          "text": [
            "Weight for Normal: 1.56\n",
            "Weight for Pneumonia: 0.54\n"
          ]
        }
      ]
    },
    {
      "cell_type": "markdown",
      "source": [
        "## Creating DenseNet\n",
        "\n",
        "DenseNet (Dense Convolutional Network) is an architecture that focuses on making the deep learning networks go even deeper, but at the same time making them more efficient to train, by using shorter connections between the layers. DenseNet is a convolutional neural network where each layer is connected to all other layers that are deeper in the network. This is done to enable maximum information flow between the layers of the network. To preserve the feed-forward nature, each layer obtains inputs from all the previous layers and passes on its own feature maps to all the layers which will come after it.\n",
        "\n",
        "DenseNet consists of two important blocks other than the basic convolutional and pooling layers:\n",
        "* The Dense Blocks \n",
        "* The Transition layers"
      ],
      "metadata": {
        "id": "pGfr5qtOv6z0"
      }
    },
    {
      "cell_type": "code",
      "source": [
        "#Build the model\n",
        "def densenet(input_shape, n_classes, filters = 32):\n",
        "    \n",
        "    def bn_rl_conv(x,filters,kernel=1,strides=1):\n",
        "        \n",
        "        x = BatchNormalization()(x)\n",
        "        x = ReLU()(x)\n",
        "        x = Conv2D(filters, kernel, strides=strides,padding = 'same')(x)\n",
        "        return x\n",
        "    \n",
        "    def dense_block(x, repetition):\n",
        "        \n",
        "        for _ in range(repetition):\n",
        "            y = bn_rl_conv(x, 4*filters)\n",
        "            y = bn_rl_conv(y, filters, 3)\n",
        "            x = concatenate([y,x])\n",
        "        return x\n",
        "        \n",
        "    def transition_layer(x):\n",
        "        \n",
        "        x = bn_rl_conv(x, K.int_shape(x)[-1] //2 )\n",
        "        x = AvgPool2D(2, strides = 2, padding = 'same')(x)\n",
        "        return x\n",
        "    \n",
        "    input = Input (input_shape)\n",
        "    x = Conv2D(64, 7, strides = 2, padding = 'same')(input)\n",
        "    x = MaxPool2D(3, strides = 2, padding = 'same')(x)\n",
        "    \n",
        "    for repetition in [6,12,24,16]:\n",
        "        \n",
        "        d = dense_block(x, repetition)\n",
        "        x = transition_layer(d)\n",
        "    x = GlobalAveragePooling2D()(d)\n",
        "    output = Dense(n_classes, activation = 'sigmoid')(x)\n",
        "    \n",
        "    model = Model(input, output)\n",
        "    return model"
      ],
      "metadata": {
        "id": "VLbGi-GXzM6U"
      },
      "execution_count": null,
      "outputs": []
    },
    {
      "cell_type": "markdown",
      "source": [
        "This is the architecture of the DenseNet"
      ],
      "metadata": {
        "id": "RsxISpyh09eM"
      }
    },
    {
      "cell_type": "code",
      "source": [
        "model = densenet((256,256,1) , 1)\n",
        "#model.summary()"
      ],
      "metadata": {
        "id": "LpH7KpBY0Qt2"
      },
      "execution_count": null,
      "outputs": []
    },
    {
      "cell_type": "code",
      "source": [
        "#Compile the model\n",
        "model.compile(optimizer = tf.keras.optimizers.RMSprop() , loss = 'binary_crossentropy' , metrics = ['accuracy'])"
      ],
      "metadata": {
        "id": "TMRwbk3v2vX7"
      },
      "execution_count": null,
      "outputs": []
    },
    {
      "cell_type": "markdown",
      "source": [
        "This code helps visualise the DenseNet"
      ],
      "metadata": {
        "id": "YQTO6iJA2B9J"
      }
    },
    {
      "cell_type": "code",
      "source": [
        "'''\n",
        "SVG(model_to_dot\n",
        "    (model, show_shapes=True, show_layer_names=True, rankdir='TB', expand_nested=False, dpi=60, subgraph=False\n",
        ").create(prog='dot',format='svg'))\n",
        "'''"
      ],
      "metadata": {
        "colab": {
          "base_uri": "https://localhost:8080/",
          "height": 36
        },
        "id": "6vH2mMpA0WUe",
        "outputId": "bc0a2a33-4721-4e2f-9ed6-5bdbcfb8411c"
      },
      "execution_count": null,
      "outputs": [
        {
          "output_type": "execute_result",
          "data": {
            "text/plain": [
              "\"\\nSVG(model_to_dot\\n    (model, show_shapes=True, show_layer_names=True, rankdir='TB', expand_nested=False, dpi=60, subgraph=False\\n).create(prog='dot',format='svg'))\\n\""
            ],
            "application/vnd.google.colaboratory.intrinsic+json": {
              "type": "string"
            }
          },
          "metadata": {},
          "execution_count": 14
        }
      ]
    },
    {
      "cell_type": "code",
      "source": [
        "learning_rate_reduction = tf.keras.callbacks.ReduceLROnPlateau(monitor='val_accuracy', patience = 2, verbose=1,factor=0.2, min_lr=0.00001)\n",
        "early_stopping_cb = tf.keras.callbacks.EarlyStopping(patience=7,restore_best_weights=True)"
      ],
      "metadata": {
        "id": "Z00wCRos1KzI"
      },
      "execution_count": null,
      "outputs": []
    },
    {
      "cell_type": "code",
      "source": [
        "#Fit the model\n",
        "history = model.fit(\n",
        "    train_data_gen,\n",
        "    batch_size = 32,\n",
        "    epochs = 50 , \n",
        "    validation_data = val_data_gen,\n",
        "    class_weight = class_weight,\n",
        "    callbacks = [learning_rate_reduction, early_stopping_cb])"
      ],
      "metadata": {
        "colab": {
          "base_uri": "https://localhost:8080/"
        },
        "id": "ZiBsVNmx2htM",
        "outputId": "2299a789-bae1-4e17-98f7-7bededd77d66"
      },
      "execution_count": null,
      "outputs": [
        {
          "output_type": "stream",
          "name": "stdout",
          "text": [
            "Epoch 1/50\n",
            "131/131 [==============================] - 605s 4s/step - loss: 0.6661 - accuracy: 0.7757 - val_loss: 0.6758 - val_accuracy: 0.7421 - lr: 0.0010\n",
            "Epoch 2/50\n",
            "131/131 [==============================] - 93s 706ms/step - loss: 0.2840 - accuracy: 0.8648 - val_loss: 3.8965 - val_accuracy: 0.7430 - lr: 0.0010\n",
            "Epoch 3/50\n",
            "131/131 [==============================] - 92s 704ms/step - loss: 0.2229 - accuracy: 0.8862 - val_loss: 4.1632 - val_accuracy: 0.4573 - lr: 0.0010\n",
            "Epoch 4/50\n",
            "131/131 [==============================] - ETA: 0s - loss: 0.1990 - accuracy: 0.9017\n",
            "Epoch 4: ReduceLROnPlateau reducing learning rate to 0.00020000000949949026.\n",
            "131/131 [==============================] - 94s 712ms/step - loss: 0.1990 - accuracy: 0.9017 - val_loss: 1.9646 - val_accuracy: 0.7306 - lr: 0.0010\n",
            "Epoch 5/50\n",
            "131/131 [==============================] - 93s 707ms/step - loss: 0.1598 - accuracy: 0.9156 - val_loss: 0.4896 - val_accuracy: 0.7843 - lr: 2.0000e-04\n",
            "Epoch 6/50\n",
            "131/131 [==============================] - 94s 713ms/step - loss: 0.1457 - accuracy: 0.9336 - val_loss: 8.8026 - val_accuracy: 0.2905 - lr: 2.0000e-04\n",
            "Epoch 7/50\n",
            "131/131 [==============================] - ETA: 0s - loss: 0.1335 - accuracy: 0.9353\n",
            "Epoch 7: ReduceLROnPlateau reducing learning rate to 4.0000001899898055e-05.\n",
            "131/131 [==============================] - 93s 706ms/step - loss: 0.1335 - accuracy: 0.9353 - val_loss: 12.8695 - val_accuracy: 0.2934 - lr: 2.0000e-04\n",
            "Epoch 8/50\n",
            "131/131 [==============================] - 94s 720ms/step - loss: 0.1127 - accuracy: 0.9466 - val_loss: 0.4630 - val_accuracy: 0.8245 - lr: 4.0000e-05\n",
            "Epoch 9/50\n",
            "131/131 [==============================] - 93s 711ms/step - loss: 0.1094 - accuracy: 0.9475 - val_loss: 0.1268 - val_accuracy: 0.9473 - lr: 4.0000e-05\n",
            "Epoch 10/50\n",
            "131/131 [==============================] - 94s 714ms/step - loss: 0.1090 - accuracy: 0.9528 - val_loss: 1.6738 - val_accuracy: 0.7430 - lr: 4.0000e-05\n",
            "Epoch 11/50\n",
            "131/131 [==============================] - ETA: 0s - loss: 0.1139 - accuracy: 0.9506\n",
            "Epoch 11: ReduceLROnPlateau reducing learning rate to 1e-05.\n",
            "131/131 [==============================] - 93s 711ms/step - loss: 0.1139 - accuracy: 0.9506 - val_loss: 0.3762 - val_accuracy: 0.8303 - lr: 4.0000e-05\n",
            "Epoch 12/50\n",
            "131/131 [==============================] - 93s 712ms/step - loss: 0.0930 - accuracy: 0.9526 - val_loss: 0.1272 - val_accuracy: 0.9492 - lr: 1.0000e-05\n",
            "Epoch 13/50\n",
            "131/131 [==============================] - 95s 721ms/step - loss: 0.1039 - accuracy: 0.9502 - val_loss: 0.4890 - val_accuracy: 0.8418 - lr: 1.0000e-05\n",
            "Epoch 14/50\n",
            "131/131 [==============================] - 93s 705ms/step - loss: 0.1058 - accuracy: 0.9521 - val_loss: 0.2260 - val_accuracy: 0.9051 - lr: 1.0000e-05\n",
            "Epoch 15/50\n",
            "131/131 [==============================] - 92s 704ms/step - loss: 0.0993 - accuracy: 0.9535 - val_loss: 0.1405 - val_accuracy: 0.9473 - lr: 1.0000e-05\n",
            "Epoch 16/50\n",
            "131/131 [==============================] - 93s 710ms/step - loss: 0.1012 - accuracy: 0.9542 - val_loss: 0.2438 - val_accuracy: 0.8955 - lr: 1.0000e-05\n"
          ]
        }
      ]
    },
    {
      "cell_type": "markdown",
      "source": [
        "## Plot the results"
      ],
      "metadata": {
        "id": "wSoENNhU2mvf"
      }
    },
    {
      "cell_type": "code",
      "source": [
        "epochs = [i for i in range(16)]\n",
        "fig , ax = plt.subplots(1,2)\n",
        "train_acc = history.history['accuracy']\n",
        "train_loss = history.history['loss']\n",
        "val_acc = history.history['val_accuracy']\n",
        "val_loss = history.history['val_loss']\n",
        "fig.set_size_inches(20,10)\n",
        "\n",
        "ax[0].plot(epochs , train_acc , 'mo-' , label = 'Training Accuracy')\n",
        "ax[0].plot(epochs , val_acc , 'co-' , label = 'Validation Accuracy')\n",
        "ax[0].set_title('Training & Validation Accuracy')\n",
        "ax[0].legend()\n",
        "ax[0].set_xlabel(\"Epochs\")\n",
        "ax[0].set_ylabel(\"Accuracy\")\n",
        "\n",
        "\n",
        "ax[1].plot(epochs , train_loss , 'm-o' , label = 'Training Loss')\n",
        "ax[1].plot(epochs , val_loss , 'c-o' , label = 'Validation Loss')\n",
        "ax[1].set_title('Testing Accuracy & Loss')\n",
        "ax[1].legend()\n",
        "ax[1].set_xlabel(\"Epochs\")\n",
        "ax[1].set_ylabel(\"Training & Validation Loss\")\n",
        "\n",
        "\n",
        "plt.show()"
      ],
      "metadata": {
        "id": "5oVQlUBx76t7",
        "colab": {
          "base_uri": "https://localhost:8080/",
          "height": 621
        },
        "outputId": "9613e494-7b31-47b0-b115-4b33bf48f525"
      },
      "execution_count": null,
      "outputs": [
        {
          "output_type": "display_data",
          "data": {
            "text/plain": [
              "<Figure size 1440x720 with 2 Axes>"
            ],
            "image/png": "[encoded data removed]"
          },
          "metadata": {
            "needs_background": "light"
          }
        }
      ]
    },
    {
      "cell_type": "markdown",
      "source": [
        "## Evaluate the model\n",
        "* Evaluate and make predictions with the test set\n",
        "* Plot the confusion matrix\n",
        "* Compute the performance metrics|"
      ],
      "metadata": {
        "id": "oJj7oWWs7_3D"
      }
    },
    {
      "cell_type": "code",
      "source": [
        "# Evaluate\n",
        "test_loss , test_accuracy = model.evaluate(test_data_gen)"
      ],
      "metadata": {
        "id": "5vILjQJk78A-",
        "colab": {
          "base_uri": "https://localhost:8080/"
        },
        "outputId": "caabf4f1-b03c-4931-d06e-a483d18872a8"
      },
      "execution_count": null,
      "outputs": [
        {
          "output_type": "stream",
          "name": "stdout",
          "text": [
            "20/20 [==============================] - 143s 7s/step - loss: 0.3407 - accuracy: 0.8542\n"
          ]
        }
      ]
    },
    {
      "cell_type": "code",
      "source": [
        "# Make predictions \n",
        "predictions = model.predict(test_data_gen)\n",
        "\n",
        "#predictions = predictions.reshape(1,-1)[0]\n",
        "predictions = predictions.round()\n",
        "\n",
        "y_test = test_data_gen.classes\n",
        "\n",
        "\n",
        "print(classification_report(y_test, predictions, target_names = ['Normal (Class 0)','Pneumonia (Class 1)']))"
      ],
      "metadata": {
        "id": "l31Bj7YK8Vqj",
        "colab": {
          "base_uri": "https://localhost:8080/"
        },
        "outputId": "3bf55396-54f1-4372-f9d8-7927a735c8b8"
      },
      "execution_count": null,
      "outputs": [
        {
          "output_type": "stream",
          "name": "stdout",
          "text": [
            "                     precision    recall  f1-score   support\n",
            "\n",
            "   Normal (Class 0)       0.90      0.69      0.78       234\n",
            "Pneumonia (Class 1)       0.84      0.95      0.89       390\n",
            "\n",
            "           accuracy                           0.85       624\n",
            "          macro avg       0.87      0.82      0.84       624\n",
            "       weighted avg       0.86      0.85      0.85       624\n",
            "\n"
          ]
        }
      ]
    },
    {
      "cell_type": "code",
      "source": [
        "# Plot confusion matrix\n",
        "plt.figure(figsize = (10,10))\n",
        "\n",
        "cm = confusion_matrix(y_test,predictions)\n",
        "\n",
        "ax = sns.heatmap(cm, annot=True, cmap='Blues', fmt='g')\n",
        "\n",
        "ax.set_title('Seaborn Confusion Matrix with labels\\n\\n');\n",
        "ax.set_xlabel('\\nPredicted Values')\n",
        "ax.set_ylabel('Actual Values ');\n",
        "\n",
        "## Ticket labels - List must be in alphabetical order\n",
        "ax.xaxis.set_ticklabels(['Normal','Pneumonia'])\n",
        "ax.yaxis.set_ticklabels(['Normal','Pneumonia'])\n",
        "\n",
        "## Display the visualization of the Confusion Matrix.\n",
        "plt.show()"
      ],
      "metadata": {
        "id": "brbuC6Ch8Xbx",
        "colab": {
          "base_uri": "https://localhost:8080/",
          "height": 663
        },
        "outputId": "79402dde-51bd-4804-ec60-e95fc79b231a"
      },
      "execution_count": null,
      "outputs": [
        {
          "output_type": "display_data",
          "data": {
            "text/plain": [
              "<Figure size 720x720 with 2 Axes>"
            ],
            "image/png": "[encoded data removed]"
          },
          "metadata": {
            "needs_background": "light"
          }
        }
      ]
    },
    {
      "cell_type": "code",
      "source": [
        "# Compute Performance Metrics\n",
        "tn, fp, fn, tp = cm.ravel()\n",
        "\n",
        "precision = tp/(tp+fp)\n",
        "recall = tp/(tp+fn)\n",
        "f1 = 2*((precision*recall)/(precision+recall))\n",
        "\n",
        "print(\"Recall of the model is {:.2f}\".format(recall))\n",
        "print(\"Precision of the model is {:.2f}\".format(precision))\n",
        "print(\"F1 Score of the model is {:.2f}\".format(f1))"
      ],
      "metadata": {
        "id": "HpsJXrkP8aqR",
        "colab": {
          "base_uri": "https://localhost:8080/"
        },
        "outputId": "a3fa9883-3f93-4bac-92bb-f2011ea45115"
      },
      "execution_count": null,
      "outputs": [
        {
          "output_type": "stream",
          "name": "stdout",
          "text": [
            "Recall of the model is 0.95\n",
            "Precision of the model is 0.84\n",
            "F1 Score of the model is 0.89\n"
          ]
        }
      ]
    },
    {
      "cell_type": "code",
      "source": [
        ""
      ],
      "metadata": {
        "id": "1iTcIiC7DFXJ"
      },
      "execution_count": null,
      "outputs": []
    }
  ]
}